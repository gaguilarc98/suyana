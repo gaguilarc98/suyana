{
 "cells": [
  {
   "cell_type": "code",
   "execution_count": 3,
   "metadata": {},
   "outputs": [],
   "source": [
    "import geopandas as gpd\n",
    "import json\n",
    "from topojson import Topology\n",
    "import geojson"
   ]
  },
  {
   "cell_type": "code",
   "execution_count": 4,
   "metadata": {},
   "outputs": [],
   "source": [
    "# Load the .gpkg file using GeoPandas\n",
    "gdf = gpd.read_file(\"C:/Files/!suyana/data/dict_canton.gpkg\")"
   ]
  },
  {
   "cell_type": "code",
   "execution_count": 6,
   "metadata": {},
   "outputs": [],
   "source": [
    "# Load the .gpkg file using GeoPandas\n",
    "gdf = gpd.read_file(\"C:/Files/!suyana/data/dict_canton.gpkg\")\n",
    "\n",
    "# Convert the GeoDataFrame to GeoJSON\n",
    "geojson_data = gdf.to_json()\n",
    "\n",
    "# Load GeoJSON data\n",
    "geojson_obj = geojson.loads(geojson_data)\n",
    "\n",
    "# Create a Topology object from the GeoJSON data\n",
    "topo = Topology(geojson_obj)\n",
    "\n",
    "# Export the TopoJSON data\n",
    "topojson_data = topo.to_dict()\n",
    "\n",
    "# Save the TopoJSON to a file\n",
    "with open(\"C:/Files/!suyana/data/dict_canton.topojson\", \"w\") as f:\n",
    "    json.dump(topojson_data, f)"
   ]
  },
  {
   "cell_type": "code",
   "execution_count": 7,
   "metadata": {},
   "outputs": [],
   "source": [
    "gdf.to_file(\"C:/Files/!suyana/data/dict_canton.geojson\",driver=\"GeoJSON\")"
   ]
  },
  {
   "cell_type": "code",
   "execution_count": 9,
   "metadata": {},
   "outputs": [],
   "source": [
    "gdf[list(set(gdf.columns)-set(['geometry']))].to_csv(\"C:/Files/!suyana/data/dict_canton.csv\")"
   ]
  }
 ],
 "metadata": {
  "kernelspec": {
   "display_name": "Python 3",
   "language": "python",
   "name": "python3"
  },
  "language_info": {
   "codemirror_mode": {
    "name": "ipython",
    "version": 3
   },
   "file_extension": ".py",
   "mimetype": "text/x-python",
   "name": "python",
   "nbconvert_exporter": "python",
   "pygments_lexer": "ipython3",
   "version": "3.11.9"
  }
 },
 "nbformat": 4,
 "nbformat_minor": 2
}
